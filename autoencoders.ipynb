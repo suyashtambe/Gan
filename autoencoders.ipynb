{
 "cells": [
  {
   "cell_type": "code",
   "execution_count": null,
   "metadata": {},
   "outputs": [],
   "source": [
    "self.decoder = nn.Sequential(\n",
    "    nn.Linear(128, 256),\n",
    "    nn.ReLU(),\n",
    "    nn.Linear(256, 512),    \n",
    "    nn.ReLU(),    \n",
    "    nn.Linear(512, 1024),    \n",
    "    nn.ReLU(),     \n",
    "    nn.Linear(1024, 2048),\n",
    "    nn.sigmoid()\n",
    ")"
   ]
  },
  {
   "cell_type": "code",
   "execution_count": null,
   "metadata": {},
   "outputs": [],
   "source": [
    "num_epochs = 1\n",
    "outputs = []\n",
    "\n",
    "for epoch in range(num_epochs):\n",
    "    for real_batch in data_loader:\n",
    "        img = img.view(-1 ,28*28)\n",
    "        recon = model(img)\n",
    "        loss = criterion(recon, img)\n",
    "        optimizer.zero_grad()\n",
    "        loss.backward()\n",
    "        optimizer.step()\n",
    "        \n",
    "       "
   ]
  }
 ],
 "metadata": {
  "language_info": {
   "name": "python"
  }
 },
 "nbformat": 4,
 "nbformat_minor": 2
}
