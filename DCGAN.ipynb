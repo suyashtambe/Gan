{
 "cells": [
  {
   "cell_type": "code",
   "execution_count": 1,
   "metadata": {},
   "outputs": [],
   "source": [
    "import torch\n",
    "import torchvision.transforms as transforms\n",
    "import torch.nn as nn\n",
    "import torchvision.datasets as dset\n",
    "from torch.utils.data import DataLoader\n",
    "import matplotlib.pyplot as plt\n",
    "import numpy as np\n",
    "import torchvision.utils as vutils\n",
    "import torch.optim as optim\n",
    "import time\n",
    "from tqdm import tqdm\n"
   ]
  },
  {
   "cell_type": "code",
   "execution_count": 2,
   "metadata": {},
   "outputs": [
    {
     "name": "stdout",
     "output_type": "stream",
     "text": [
      "cuda\n"
     ]
    }
   ],
   "source": [
    "device = torch.device(\"cuda\" if torch.cuda.is_available() else \"cpu\")\n",
    "print(device)\n"
   ]
  },
  {
   "cell_type": "code",
   "execution_count": 15,
   "metadata": {},
   "outputs": [],
   "source": [
    "# Hyperparameters\n",
    "image_size = 64\n",
    "batch_size = 256\n",
    "nz = 100  # Latent vector size\n",
    "num_epochs = 20\n",
    "lr = 0.0002\n",
    "beta1 = 0.5  # Beta1 hyperparameter for Adam optimizer"
   ]
  },
  {
   "cell_type": "code",
   "execution_count": 16,
   "metadata": {},
   "outputs": [],
   "source": [
    "# Define dataset transformation\n",
    "transform = transforms.Compose([\n",
    "    transforms.Resize((image_size, image_size)),\n",
    "    transforms.ToTensor(),\n",
    "    transforms.Normalize((0.5,), (0.5,))\n",
    "])"
   ]
  },
  {
   "cell_type": "code",
   "execution_count": 17,
   "metadata": {},
   "outputs": [
    {
     "name": "stderr",
     "output_type": "stream",
     "text": [
      "<>:1: SyntaxWarning: invalid escape sequence '\\i'\n",
      "<>:1: SyntaxWarning: invalid escape sequence '\\i'\n",
      "C:\\Users\\Suyash Tambe\\AppData\\Local\\Temp\\ipykernel_27800\\2267843485.py:1: SyntaxWarning: invalid escape sequence '\\i'\n",
      "  dataset = dset.ImageFolder(root=\"data\\img_align_celeba\", transform=transform)\n"
     ]
    }
   ],
   "source": [
    "dataset = dset.ImageFolder(root=\"data\\img_align_celeba\", transform=transform)\n",
    "dataloader = DataLoader(dataset, batch_size=batch_size, shuffle=True, num_workers=4)"
   ]
  },
  {
   "cell_type": "code",
   "execution_count": 18,
   "metadata": {},
   "outputs": [],
   "source": [
    "# Define the Generator\n",
    "class Generator(nn.Module):\n",
    "    def __init__(self):\n",
    "        super(Generator, self).__init__()\n",
    "        self.main = nn.Sequential(\n",
    "            nn.ConvTranspose2d(nz, 512, 4, 1, 0, bias=False),\n",
    "            nn.BatchNorm2d(512),\n",
    "            nn.ReLU(True),\n",
    "\n",
    "            nn.ConvTranspose2d(512, 256, 4, 2, 1, bias=False),\n",
    "            nn.BatchNorm2d(256),\n",
    "            nn.ReLU(True),\n",
    "\n",
    "            nn.ConvTranspose2d(256, 128, 4, 2, 1, bias=False),\n",
    "            nn.BatchNorm2d(128),\n",
    "            nn.ReLU(True),\n",
    "\n",
    "            nn.ConvTranspose2d(128, 64, 4, 2, 1, bias=False),\n",
    "            nn.BatchNorm2d(64),\n",
    "            nn.ReLU(True),\n",
    "\n",
    "            nn.ConvTranspose2d(64, 3, 4, 2, 1, bias=False),\n",
    "            nn.Tanh()\n",
    "        )\n",
    "\n",
    "    def forward(self, input):\n",
    "        return self.main(input)\n"
   ]
  },
  {
   "cell_type": "code",
   "execution_count": 19,
   "metadata": {},
   "outputs": [],
   "source": [
    "# Define the Discriminator\n",
    "class Discriminator(nn.Module):\n",
    "    def __init__(self):\n",
    "        super(Discriminator, self).__init__()\n",
    "        self.main = nn.Sequential(\n",
    "            nn.Conv2d(3, 64, 4, 2, 1, bias=False),\n",
    "            nn.LeakyReLU(0.2, inplace=True),\n",
    "\n",
    "            nn.Conv2d(64, 128, 4, 2, 1, bias=False),\n",
    "            nn.BatchNorm2d(128),\n",
    "            nn.LeakyReLU(0.2, inplace=True),\n",
    "\n",
    "            nn.Conv2d(128, 256, 4, 2, 1, bias=False),\n",
    "            nn.BatchNorm2d(256),\n",
    "            nn.LeakyReLU(0.2, inplace=True),\n",
    "\n",
    "            nn.Conv2d(256, 512, 4, 2, 1, bias=False),\n",
    "            nn.BatchNorm2d(512),\n",
    "            nn.LeakyReLU(0.2, inplace=True),\n",
    "\n",
    "            nn.Conv2d(512, 1, 4, 1, 0, bias=False),\n",
    "            nn.Sigmoid()\n",
    "        )\n",
    "\n",
    "    def forward(self, input):\n",
    "        return self.main(input)\n"
   ]
  },
  {
   "cell_type": "code",
   "execution_count": 20,
   "metadata": {},
   "outputs": [],
   "source": [
    "# Initialize models\n",
    "netG = Generator().to(device)\n",
    "netD = Discriminator().to(device)\n",
    "\n",
    "# Loss and optimizers\n",
    "criterion = nn.BCELoss()\n",
    "optimizerD = optim.Adam(netD.parameters(), lr=lr, betas=(beta1, 0.999))\n",
    "optimizerG = optim.Adam(netG.parameters(), lr=lr, betas=(beta1, 0.999))\n",
    "\n",
    "# Create fixed noise for image generation\n",
    "fixed_noise = torch.randn(64, nz, 1, 1, device=device)\n"
   ]
  },
  {
   "cell_type": "code",
   "execution_count": 21,
   "metadata": {},
   "outputs": [
    {
     "data": {
      "text/plain": [
       "BCELoss()"
      ]
     },
     "execution_count": 21,
     "metadata": {},
     "output_type": "execute_result"
    }
   ],
   "source": [
    "device = torch.device(\"cuda\" if torch.cuda.is_available() else \"cpu\")\n",
    "netD.to(device)\n",
    "netG.to(device)\n",
    "criterion.to(device)\n"
   ]
  },
  {
   "cell_type": "markdown",
   "metadata": {},
   "source": [
    "## Train DCGAN "
   ]
  },
  {
   "cell_type": "code",
   "execution_count": 22,
   "metadata": {},
   "outputs": [
    {
     "name": "stdout",
     "output_type": "stream",
     "text": [
      "Starting Training...\n"
     ]
    }
   ],
   "source": [
    "real_label = 1.\n",
    "fake_label = 0.\n",
    "\n",
    "print(\"Starting Training...\")\n",
    "start_time = time.time()\n",
    "\n",
    "G_losses = []\n",
    "D_losses = []\n",
    "img_list = []"
   ]
  },
  {
   "cell_type": "code",
   "execution_count": null,
   "metadata": {},
   "outputs": [
    {
     "name": "stdout",
     "output_type": "stream",
     "text": [
      "Epoch [0/20] | Batch [0/215] | D Loss: 1.3756 | G Loss: 2.5450\n",
      "Epoch [0/20] | Batch [100/215] | D Loss: 1.5769 | G Loss: 3.9990\n",
      "Epoch [0/20] | Batch [200/215] | D Loss: 1.3657 | G Loss: 6.7274\n",
      "Epoch [1/20] | Batch [0/215] | D Loss: 0.8003 | G Loss: 3.6828\n",
      "Epoch [1/20] | Batch [100/215] | D Loss: 1.2486 | G Loss: 5.0917\n",
      "Epoch [1/20] | Batch [200/215] | D Loss: 1.1288 | G Loss: 5.6316\n",
      "Epoch [2/20] | Batch [0/215] | D Loss: 0.4727 | G Loss: 3.3179\n",
      "Epoch [2/20] | Batch [100/215] | D Loss: 0.6919 | G Loss: 5.1794\n",
      "Epoch [2/20] | Batch [200/215] | D Loss: 0.5908 | G Loss: 4.2242\n",
      "Epoch [3/20] | Batch [0/215] | D Loss: 1.5105 | G Loss: 7.7666\n",
      "Epoch [3/20] | Batch [100/215] | D Loss: 0.8457 | G Loss: 3.5241\n",
      "Epoch [3/20] | Batch [200/215] | D Loss: 1.4321 | G Loss: 5.7661\n",
      "Epoch [4/20] | Batch [0/215] | D Loss: 0.5884 | G Loss: 2.6612\n",
      "Epoch [4/20] | Batch [100/215] | D Loss: 0.6020 | G Loss: 2.6435\n",
      "Epoch [4/20] | Batch [200/215] | D Loss: 0.4881 | G Loss: 2.7254\n",
      "Epoch [5/20] | Batch [0/215] | D Loss: 0.6012 | G Loss: 2.1209\n",
      "Epoch [5/20] | Batch [100/215] | D Loss: 0.4776 | G Loss: 2.6640\n",
      "Epoch [5/20] | Batch [200/215] | D Loss: 0.9638 | G Loss: 4.4273\n",
      "Epoch [6/20] | Batch [0/215] | D Loss: 0.4093 | G Loss: 3.4601\n",
      "Epoch [6/20] | Batch [100/215] | D Loss: 0.5808 | G Loss: 3.4717\n",
      "Epoch [6/20] | Batch [200/215] | D Loss: 0.5578 | G Loss: 2.2784\n",
      "Epoch [7/20] | Batch [0/215] | D Loss: 0.5431 | G Loss: 4.1268\n",
      "Epoch [7/20] | Batch [100/215] | D Loss: 0.5233 | G Loss: 4.8694\n",
      "Epoch [7/20] | Batch [200/215] | D Loss: 0.5443 | G Loss: 3.0236\n",
      "Epoch [8/20] | Batch [0/215] | D Loss: 0.7652 | G Loss: 1.9277\n",
      "Epoch [8/20] | Batch [100/215] | D Loss: 0.5713 | G Loss: 1.8814\n",
      "Epoch [8/20] | Batch [200/215] | D Loss: 0.9439 | G Loss: 6.0227\n",
      "Epoch [9/20] | Batch [0/215] | D Loss: 0.4279 | G Loss: 1.5815\n",
      "Epoch [9/20] | Batch [100/215] | D Loss: 0.5365 | G Loss: 2.4530\n",
      "Epoch [9/20] | Batch [200/215] | D Loss: 0.6560 | G Loss: 4.8223\n",
      "Epoch [10/20] | Batch [0/215] | D Loss: 0.7223 | G Loss: 5.0424\n",
      "Epoch [10/20] | Batch [100/215] | D Loss: 1.6646 | G Loss: 1.4956\n",
      "Epoch [10/20] | Batch [200/215] | D Loss: 0.5047 | G Loss: 3.6161\n",
      "Epoch [11/20] | Batch [0/215] | D Loss: 0.3108 | G Loss: 2.8082\n",
      "Epoch [11/20] | Batch [100/215] | D Loss: 0.4099 | G Loss: 2.6913\n",
      "Epoch [11/20] | Batch [200/215] | D Loss: 1.1880 | G Loss: 6.2122\n",
      "Epoch [12/20] | Batch [0/215] | D Loss: 0.6358 | G Loss: 1.6787\n",
      "Epoch [12/20] | Batch [100/215] | D Loss: 0.5521 | G Loss: 2.0994\n",
      "Epoch [12/20] | Batch [200/215] | D Loss: 0.4645 | G Loss: 1.5683\n",
      "Epoch [13/20] | Batch [0/215] | D Loss: 0.5354 | G Loss: 3.3806\n",
      "Epoch [13/20] | Batch [100/215] | D Loss: 0.3122 | G Loss: 3.0757\n",
      "Epoch [13/20] | Batch [200/215] | D Loss: 0.2518 | G Loss: 2.8160\n",
      "Epoch [14/20] | Batch [0/215] | D Loss: 0.6501 | G Loss: 1.3759\n",
      "Epoch [14/20] | Batch [100/215] | D Loss: 1.1764 | G Loss: 1.5394\n",
      "Epoch [14/20] | Batch [200/215] | D Loss: 0.5564 | G Loss: 2.4358\n",
      "Epoch [15/20] | Batch [0/215] | D Loss: 1.0553 | G Loss: 0.7434\n",
      "Epoch [15/20] | Batch [100/215] | D Loss: 0.3139 | G Loss: 3.5183\n",
      "Epoch [15/20] | Batch [200/215] | D Loss: 0.4293 | G Loss: 3.0397\n",
      "Epoch [16/20] | Batch [0/215] | D Loss: 0.3790 | G Loss: 2.7854\n",
      "Epoch [16/20] | Batch [100/215] | D Loss: 1.2360 | G Loss: 0.5778\n",
      "Epoch [16/20] | Batch [200/215] | D Loss: 1.2909 | G Loss: 5.1489\n",
      "Epoch [17/20] | Batch [0/215] | D Loss: 0.3831 | G Loss: 2.8593\n",
      "Epoch [17/20] | Batch [100/215] | D Loss: 0.6994 | G Loss: 1.3661\n",
      "Epoch [17/20] | Batch [200/215] | D Loss: 0.3509 | G Loss: 2.2374\n",
      "Epoch [18/20] | Batch [0/215] | D Loss: 0.3072 | G Loss: 3.2009\n",
      "Epoch [18/20] | Batch [100/215] | D Loss: 0.5192 | G Loss: 2.3658\n"
     ]
    }
   ],
   "source": [
    "for epoch in range(num_epochs):\n",
    "    for i, (real_images, _) in enumerate(dataloader):\n",
    "        real_images = real_images.to(device)\n",
    "        batch_size = real_images.size(0)\n",
    "\n",
    "        # Update Discriminator: max log(D(x)) + log(1 - D(G(z)))\n",
    "        netD.zero_grad()\n",
    "        label = torch.full((batch_size,), real_label, dtype=torch.float, device=device)\n",
    "\n",
    "        output = netD(real_images).view(-1)\n",
    "        errD_real = criterion(output, label)\n",
    "        errD_real.backward()\n",
    "\n",
    "        noise = torch.randn(batch_size, nz, 1, 1, device=device)\n",
    "        fake_images = netG(noise)\n",
    "        label.fill_(fake_label)\n",
    "\n",
    "        output = netD(fake_images.detach()).view(-1)\n",
    "        errD_fake = criterion(output, label)\n",
    "        errD_fake.backward()\n",
    "        optimizerD.step()\n",
    "\n",
    "        # Update Generator: min log(1 - D(G(z))) <=> max log(D(G(z)))\n",
    "        netG.zero_grad()\n",
    "        label.fill_(real_label)\n",
    "\n",
    "        output = netD(fake_images).view(-1)\n",
    "        errG = criterion(output, label)\n",
    "        errG.backward()\n",
    "        optimizerG.step()\n",
    "\n",
    "        # Store losses for visualization\n",
    "        G_losses.append(errG.item())\n",
    "        D_losses.append(errD_real.item() + errD_fake.item())\n",
    "\n",
    "        # Print progress\n",
    "        if i % 100 == 0:\n",
    "            print(f\"Epoch [{epoch}/{num_epochs}] | Batch [{i}/{len(dataloader)}] | D Loss: {errD_real.item() + errD_fake.item():.4f} | G Loss: {errG.item():.4f}\")\n",
    "\n",
    "    # Save generated images every epoch\n",
    "    with torch.no_grad():\n",
    "        fake = netG(fixed_noise).detach().cpu()\n",
    "    img_list.append(vutils.make_grid(fake, padding=2, normalize=True))\n",
    "\n",
    "print(\"Training Complete Time Taken:\", round((time.time() - start_time) / 60, 2), \"minutes\")\n"
   ]
  },
  {
   "cell_type": "code",
   "execution_count": null,
   "metadata": {},
   "outputs": [],
   "source": [
    "# Display Generated Images\n",
    "def show_generated_images():\n",
    "    real_images, _ = next(iter(dataloader))\n",
    "    real_images = real_images[:64]\n",
    "    \n",
    "    # Generate fake images\n",
    "    with torch.no_grad():\n",
    "        fake_images = netG(fixed_noise).detach().cpu()\n",
    "    \n",
    "    fig, axes = plt.subplots(2, 1, figsize=(8, 8))\n",
    "    \n",
    "    # Show real images\n",
    "    axes[0].imshow(np.transpose(vutils.make_grid(real_images, padding=2, normalize=True), (1, 2, 0)))\n",
    "    axes[0].set_title(\"Real Images\")\n",
    "    axes[0].axis(\"off\")\n",
    "\n",
    "    # Show fake images\n",
    "    axes[1].imshow(np.transpose(vutils.make_grid(fake_images, padding=2, normalize=True), (1, 2, 0)))\n",
    "    axes[1].set_title(\"Generated Images\")\n",
    "    axes[1].axis(\"off\")\n",
    "\n",
    "    plt.show()\n",
    "\n",
    "# Save generated images\n",
    "show_generated_images()\n"
   ]
  },
  {
   "cell_type": "code",
   "execution_count": null,
   "metadata": {},
   "outputs": [],
   "source": [
    "# Save models\n",
    "torch.save(netG.state_dict(), \"generator.pth\")\n",
    "torch.save(netD.state_dict(), \"discriminator.pth\")\n",
    "\n",
    "# Load models\n",
    "netG.load_state_dict(torch.load(\"generator.pth\", map_location=device))\n",
    "netD.load_state_dict(torch.load(\"discriminator.pth\", map_location=device))\n",
    "\n"
   ]
  }
 ],
 "metadata": {
  "kernelspec": {
   "display_name": "Python 3",
   "language": "python",
   "name": "python3"
  },
  "language_info": {
   "codemirror_mode": {
    "name": "ipython",
    "version": 3
   },
   "file_extension": ".py",
   "mimetype": "text/x-python",
   "name": "python",
   "nbconvert_exporter": "python",
   "pygments_lexer": "ipython3",
   "version": "3.12.2"
  }
 },
 "nbformat": 4,
 "nbformat_minor": 2
}
